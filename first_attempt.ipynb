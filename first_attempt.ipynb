{
 "nbformat": 4,
 "nbformat_minor": 2,
 "metadata": {
  "language_info": {
   "name": "python",
   "codemirror_mode": {
    "name": "ipython",
    "version": 3
   },
   "version": "3.7.3"
  },
  "orig_nbformat": 2,
  "file_extension": ".py",
  "mimetype": "text/x-python",
  "name": "python",
  "npconvert_exporter": "python",
  "pygments_lexer": "ipython3",
  "version": 3
 },
 "cells": [
  {
   "cell_type": "code",
   "execution_count": 1,
   "metadata": {},
   "outputs": [],
   "source": [
    "#import packages\n",
    "import pandas as pd\n",
    "import numpy as np"
   ]
  },
  {
   "cell_type": "code",
   "execution_count": 9,
   "metadata": {},
   "outputs": [],
   "source": [
    "#get the expression data, we use ko dataset first\n",
    "ko_df = pd.read_csv(\"C:/Users/yutin/Desktop/CS598SS_GRN-master/dataset/expression/KO.txt\", sep = '\\t')\n",
    "nv_df = pd.read_csv('C:/Users/yutin/Desktop/CS598SS_GRN-master/dataset/expression/NatVar.txt', sep='\\t')\n",
    "stress_df = pd.read_csv('C:/Users/yutin/Desktop/CS598SS_GRN-master/dataset/expression/Stress.txt', sep='\\t')\n",
    "\n",
    "#get the TF data\n",
    "ko_tf = pd.read_csv(\"C:/Users/yutin/Desktop/CS598SS_GRN-master/dataset/expression/KO_TF_names.txt\", sep = '\\t', header= None)\n",
    "ko_tf.columns = ['TF']\n",
    "\n",
    "nv_tf = pd.read_csv('C:/Users/yutin/Desktop/CS598SS_GRN-master/dataset/expression//NatVar_TF_names.txt', sep='\\t', header=None)\n",
    "nv_tf.columns = ['TF']\n",
    "\n",
    "stress_tf = pd.read_csv('C:/Users/yutin/Desktop/CS598SS_GRN-master/dataset/expression/Stress_TF_names.txt', sep='\\t', header=None)\n",
    "stress_tf.columns = ['TF']"
   ]
  },
  {
   "cell_type": "code",
   "execution_count": 15,
   "metadata": {},
   "outputs": [],
   "source": [
    "#seprate the tfs from dfs\n",
    "#use ko dataset as our first attempt here\n",
    "new_ko_df = ko_df[~ko_df['Gene'].isin(ko_tf['TF'])]\n",
    "new_ko_df = new_ko_df.set_index('Gene')\n",
    "\n",
    "new_ko_tf = ko_df[ko_df['Gene'].isin(ko_tf['TF'])]\n",
    "new_ko_tf = new_ko_tf.set_index('Gene')\n"
   ]
  },
  {
   "cell_type": "code",
   "execution_count": 23,
   "metadata": {},
   "outputs": [],
   "source": [
    "#prepare dataset, set target gene(Y) and predictors(X)\n",
    "from sklearn import model_selection\n",
    "def prep_dataset(new_tf, new_df):\n",
    "    '''\n",
    "    Args:\n",
    "        -new_tf, the predictors(X), already in dataframe format\n",
    "        -new_df, the taget genes(Y), already in dataframe format\n",
    "    Returns:\n",
    "        -training and testing sets\n",
    "        -label for predictors\n",
    "    '''\n",
    "    y = new_df.values\n",
    "    X = new_tf\n",
    "\n",
    "    X_label = X.index #gene names for predictors\n",
    "    X = X.values.transpose() # why transpose????\n",
    "\n",
    "    #75:25 split\n",
    "    X_train, X_test, y_train, y_test = model_selection.train_test_split(X, y, test_size = 0.25)\n",
    "\n",
    "    return X_train, X_test, y_train, y_test, X_label\n",
    "\n",
    "\n",
    "\n",
    "    "
   ]
  },
  {
   "cell_type": "markdown",
   "execution_count": null,
   "metadata": {},
   "outputs": [],
   "source": [
    "Lasso regression"
   ]
  },
  {
   "cell_type": "code",
   "execution_count": 17,
   "metadata": {},
   "outputs": [],
   "source": [
    "\n",
    "from sklearn.linear_model import Lasso, LassoCV\n",
    "\n",
    "def grn_lasso(new_tf, new_df):\n",
    "    '''\n",
    "    GRN construction using lasso regression\n",
    "    Args:\n",
    "        -new_tf, already in dataframe format\n",
    "        -new_df, already in dataframe format\n",
    "    return:\n",
    "        -non-zero predictors\n",
    "    '''\n",
    "    #prep data\n",
    "    X_train, X_test, y_train, y_test, X_label = prep_dataset(new_tf, new_df)\n",
    "\n",
    "    #use lasso regression\n",
    "    lasso_reg = LassoCV(alphas=[0.01, 0.1, 1, 10, 100], cv = 10)\n",
    "    lasso_reg.fit(X_train, y_train)\n",
    "\n",
    "    #get the scores\n",
    "    train_score = lasso_reg.score(X_train, y_train)\n",
    "    test_score = lasso_reg.score(X_test, y_test)\n",
    "\n",
    "    #find the non-zero predictors as regulators\n",
    "    nonzero_filter = lasso_reg.coef_ != 0\n",
    "    regulators = X_label[nonzero_filter]\n",
    "\n",
    "    return regulators.values"
   ]
  },
  {
   "cell_type": "markdown",
   "execution_count": null,
   "metadata": {},
   "outputs": [],
   "source": [
    "Ridge regression"
   ]
  },
  {
   "cell_type": "code",
   "execution_count": 19,
   "metadata": {},
   "outputs": [],
   "source": [
    "from sklearn.linear_model import Ridge, RidgeCV\n",
    "\n",
    "def grn_ridge(new_tf, new_df):\n",
    "    '''\n",
    "    GRN construction using ridge regression, I guess it is going to show similar outcome as lasso\n",
    "    Args:\n",
    "        -new_tf, already in dataframe format\n",
    "        -new_df, already in dataframe format\n",
    "    return:\n",
    "        -non-zero predictors\n",
    "    '''\n",
    "    #prep data\n",
    "    X_train, X_test, y_train, y_test, X_label = prep_dataset(new_tf, new_df)\n",
    "\n",
    "    #use lasso regression\n",
    "    ridge_reg = RidgeCV(alphas=[0.01, 0.1, 1, 10, 100], cv = 10)\n",
    "    ridge_reg.fit(X_train, y_train)\n",
    "\n",
    "    #get the scores\n",
    "    train_score = ridge_reg.score(X_train, y_train)\n",
    "    test_score = ridge_reg.score(X_test, y_test)\n",
    "\n",
    "    #find the non-zero predictors as regulators\n",
    "    nonzero_filter = ridge_reg.coef_ != 0\n",
    "    regulators = X_label[nonzero_filter]\n",
    "\n",
    "    return regulators.values"
   ]
  },
  {
   "cell_type": "code",
   "execution_count": 24,
   "metadata": {},
   "outputs": [
    {
     "ename": "ValueError",
     "evalue": "Found input variables with inconsistent numbers of samples: [536, 5441]",
     "output_type": "error",
     "traceback": [
      "\u001b[1;31m---------------------------------------------------------------------------\u001b[0m",
      "\u001b[1;31mValueError\u001b[0m                                Traceback (most recent call last)",
      "\u001b[1;32m<ipython-input-24-5f8cf530699a>\u001b[0m in \u001b[0;36m<module>\u001b[1;34m\u001b[0m\n\u001b[0;32m      1\u001b[0m \u001b[1;31m#first try\u001b[0m\u001b[1;33m\u001b[0m\u001b[1;33m\u001b[0m\u001b[1;33m\u001b[0m\u001b[0m\n\u001b[1;32m----> 2\u001b[1;33m \u001b[0mgrn_lasso\u001b[0m\u001b[1;33m(\u001b[0m\u001b[0mnew_ko_tf\u001b[0m\u001b[1;33m,\u001b[0m \u001b[0mnew_ko_df\u001b[0m\u001b[1;33m)\u001b[0m\u001b[1;33m\u001b[0m\u001b[1;33m\u001b[0m\u001b[0m\n\u001b[0m",
      "\u001b[1;32m<ipython-input-17-6c947ce7bbd1>\u001b[0m in \u001b[0;36mgrn_lasso\u001b[1;34m(new_tf, new_df)\u001b[0m\n\u001b[0;32m     12\u001b[0m     '''\n\u001b[0;32m     13\u001b[0m     \u001b[1;31m#prep data\u001b[0m\u001b[1;33m\u001b[0m\u001b[1;33m\u001b[0m\u001b[1;33m\u001b[0m\u001b[0m\n\u001b[1;32m---> 14\u001b[1;33m     \u001b[0mX_train\u001b[0m\u001b[1;33m,\u001b[0m \u001b[0mX_test\u001b[0m\u001b[1;33m,\u001b[0m \u001b[0my_train\u001b[0m\u001b[1;33m,\u001b[0m \u001b[0my_test\u001b[0m\u001b[1;33m,\u001b[0m \u001b[0mX_label\u001b[0m \u001b[1;33m=\u001b[0m \u001b[0mprep_dataset\u001b[0m\u001b[1;33m(\u001b[0m\u001b[0mnew_tf\u001b[0m\u001b[1;33m,\u001b[0m \u001b[0mnew_df\u001b[0m\u001b[1;33m)\u001b[0m\u001b[1;33m\u001b[0m\u001b[1;33m\u001b[0m\u001b[0m\n\u001b[0m\u001b[0;32m     15\u001b[0m \u001b[1;33m\u001b[0m\u001b[0m\n\u001b[0;32m     16\u001b[0m     \u001b[1;31m#use lasso regression\u001b[0m\u001b[1;33m\u001b[0m\u001b[1;33m\u001b[0m\u001b[1;33m\u001b[0m\u001b[0m\n",
      "\u001b[1;32m<ipython-input-23-f965aa8871ec>\u001b[0m in \u001b[0;36mprep_dataset\u001b[1;34m(new_tf, new_df)\u001b[0m\n\u001b[0;32m     17\u001b[0m \u001b[1;33m\u001b[0m\u001b[0m\n\u001b[0;32m     18\u001b[0m     \u001b[1;31m#80:20 split\u001b[0m\u001b[1;33m\u001b[0m\u001b[1;33m\u001b[0m\u001b[1;33m\u001b[0m\u001b[0m\n\u001b[1;32m---> 19\u001b[1;33m     \u001b[0mX_train\u001b[0m\u001b[1;33m,\u001b[0m \u001b[0mX_test\u001b[0m\u001b[1;33m,\u001b[0m \u001b[0my_train\u001b[0m\u001b[1;33m,\u001b[0m \u001b[0my_test\u001b[0m \u001b[1;33m=\u001b[0m \u001b[0mmodel_selection\u001b[0m\u001b[1;33m.\u001b[0m\u001b[0mtrain_test_split\u001b[0m\u001b[1;33m(\u001b[0m\u001b[0mX\u001b[0m\u001b[1;33m,\u001b[0m \u001b[0my\u001b[0m\u001b[1;33m,\u001b[0m \u001b[0mtest_size\u001b[0m \u001b[1;33m=\u001b[0m \u001b[1;36m0.25\u001b[0m\u001b[1;33m)\u001b[0m\u001b[1;33m\u001b[0m\u001b[1;33m\u001b[0m\u001b[0m\n\u001b[0m\u001b[0;32m     20\u001b[0m \u001b[1;33m\u001b[0m\u001b[0m\n\u001b[0;32m     21\u001b[0m     \u001b[1;32mreturn\u001b[0m \u001b[0mX_train\u001b[0m\u001b[1;33m,\u001b[0m \u001b[0mX_test\u001b[0m\u001b[1;33m,\u001b[0m \u001b[0my_train\u001b[0m\u001b[1;33m,\u001b[0m \u001b[0my_test\u001b[0m\u001b[1;33m,\u001b[0m \u001b[0mX_label\u001b[0m\u001b[1;33m\u001b[0m\u001b[1;33m\u001b[0m\u001b[0m\n",
      "\u001b[1;32m~\\Anaconda3\\lib\\site-packages\\sklearn\\model_selection\\_split.py\u001b[0m in \u001b[0;36mtrain_test_split\u001b[1;34m(*arrays, **options)\u001b[0m\n\u001b[0;32m   2182\u001b[0m         \u001b[0mtest_size\u001b[0m \u001b[1;33m=\u001b[0m \u001b[1;36m0.25\u001b[0m\u001b[1;33m\u001b[0m\u001b[1;33m\u001b[0m\u001b[0m\n\u001b[0;32m   2183\u001b[0m \u001b[1;33m\u001b[0m\u001b[0m\n\u001b[1;32m-> 2184\u001b[1;33m     \u001b[0marrays\u001b[0m \u001b[1;33m=\u001b[0m \u001b[0mindexable\u001b[0m\u001b[1;33m(\u001b[0m\u001b[1;33m*\u001b[0m\u001b[0marrays\u001b[0m\u001b[1;33m)\u001b[0m\u001b[1;33m\u001b[0m\u001b[1;33m\u001b[0m\u001b[0m\n\u001b[0m\u001b[0;32m   2185\u001b[0m \u001b[1;33m\u001b[0m\u001b[0m\n\u001b[0;32m   2186\u001b[0m     \u001b[1;32mif\u001b[0m \u001b[0mshuffle\u001b[0m \u001b[1;32mis\u001b[0m \u001b[1;32mFalse\u001b[0m\u001b[1;33m:\u001b[0m\u001b[1;33m\u001b[0m\u001b[1;33m\u001b[0m\u001b[0m\n",
      "\u001b[1;32m~\\Anaconda3\\lib\\site-packages\\sklearn\\utils\\validation.py\u001b[0m in \u001b[0;36mindexable\u001b[1;34m(*iterables)\u001b[0m\n\u001b[0;32m    258\u001b[0m         \u001b[1;32melse\u001b[0m\u001b[1;33m:\u001b[0m\u001b[1;33m\u001b[0m\u001b[1;33m\u001b[0m\u001b[0m\n\u001b[0;32m    259\u001b[0m             \u001b[0mresult\u001b[0m\u001b[1;33m.\u001b[0m\u001b[0mappend\u001b[0m\u001b[1;33m(\u001b[0m\u001b[0mnp\u001b[0m\u001b[1;33m.\u001b[0m\u001b[0marray\u001b[0m\u001b[1;33m(\u001b[0m\u001b[0mX\u001b[0m\u001b[1;33m)\u001b[0m\u001b[1;33m)\u001b[0m\u001b[1;33m\u001b[0m\u001b[1;33m\u001b[0m\u001b[0m\n\u001b[1;32m--> 260\u001b[1;33m     \u001b[0mcheck_consistent_length\u001b[0m\u001b[1;33m(\u001b[0m\u001b[1;33m*\u001b[0m\u001b[0mresult\u001b[0m\u001b[1;33m)\u001b[0m\u001b[1;33m\u001b[0m\u001b[1;33m\u001b[0m\u001b[0m\n\u001b[0m\u001b[0;32m    261\u001b[0m     \u001b[1;32mreturn\u001b[0m \u001b[0mresult\u001b[0m\u001b[1;33m\u001b[0m\u001b[1;33m\u001b[0m\u001b[0m\n\u001b[0;32m    262\u001b[0m \u001b[1;33m\u001b[0m\u001b[0m\n",
      "\u001b[1;32m~\\Anaconda3\\lib\\site-packages\\sklearn\\utils\\validation.py\u001b[0m in \u001b[0;36mcheck_consistent_length\u001b[1;34m(*arrays)\u001b[0m\n\u001b[0;32m    233\u001b[0m     \u001b[1;32mif\u001b[0m \u001b[0mlen\u001b[0m\u001b[1;33m(\u001b[0m\u001b[0muniques\u001b[0m\u001b[1;33m)\u001b[0m \u001b[1;33m>\u001b[0m \u001b[1;36m1\u001b[0m\u001b[1;33m:\u001b[0m\u001b[1;33m\u001b[0m\u001b[1;33m\u001b[0m\u001b[0m\n\u001b[0;32m    234\u001b[0m         raise ValueError(\"Found input variables with inconsistent numbers of\"\n\u001b[1;32m--> 235\u001b[1;33m                          \" samples: %r\" % [int(l) for l in lengths])\n\u001b[0m\u001b[0;32m    236\u001b[0m \u001b[1;33m\u001b[0m\u001b[0m\n\u001b[0;32m    237\u001b[0m \u001b[1;33m\u001b[0m\u001b[0m\n",
      "\u001b[1;31mValueError\u001b[0m: Found input variables with inconsistent numbers of samples: [536, 5441]"
     ]
    }
   ],
   "source": [
    "#first try\n",
    "grn_lasso(new_ko_tf, new_ko_df)"
   ]
  },
  {
   "cell_type": "code",
   "execution_count": null,
   "metadata": {},
   "outputs": [],
   "source": []
  }
 ]
}